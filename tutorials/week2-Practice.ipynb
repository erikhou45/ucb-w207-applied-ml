{
 "cells": [
  {
   "cell_type": "markdown",
   "metadata": {},
   "source": [
    "# KNN practice\n",
    "\n",
    "This notebook is for practicing on building a KNN model for classification"
   ]
  },
  {
   "cell_type": "code",
   "execution_count": 4,
   "metadata": {},
   "outputs": [],
   "source": [
    "import numpy as np\n",
    "import matplotlib.pyplot as plt\n",
    "import pandas as pd\n",
    "\n",
    "from sklearn.datasets import load_iris"
   ]
  },
  {
   "cell_type": "code",
   "execution_count": 5,
   "metadata": {},
   "outputs": [],
   "source": [
    "iris = load_iris()\n",
    "\n",
    "X, Y = iris.data, iris.target"
   ]
  },
  {
   "cell_type": "code",
   "execution_count": null,
   "metadata": {
    "scrolled": false
   },
   "outputs": [],
   "source": [
    "X.shape\n",
    "X"
   ]
  },
  {
   "cell_type": "code",
   "execution_count": 7,
   "metadata": {
    "scrolled": false
   },
   "outputs": [
    {
     "data": {
      "text/plain": [
       "{0: 50, 1: 50, 2: 50}"
      ]
     },
     "execution_count": 7,
     "metadata": {},
     "output_type": "execute_result"
    }
   ],
   "source": [
    "count = {}\n",
    "for i in range(len(Y)):\n",
    "    if Y[i] not in count.keys():\n",
    "        count[Y[i]] = 1\n",
    "    else:\n",
    "        count[Y[i]] = count[Y[i]] + 1\n",
    "\n",
    "count"
   ]
  },
  {
   "cell_type": "markdown",
   "metadata": {},
   "source": [
    "### Shuffle the dataset"
   ]
  },
  {
   "cell_type": "code",
   "execution_count": 8,
   "metadata": {},
   "outputs": [],
   "source": [
    "np.random.seed(0)\n",
    "shuffle = np.random.permutation(np.arange(X.shape[0]))"
   ]
  },
  {
   "cell_type": "code",
   "execution_count": 9,
   "metadata": {},
   "outputs": [],
   "source": [
    "shuffled_x = X[shuffle]\n",
    "shuffled_y = Y[shuffle]"
   ]
  },
  {
   "cell_type": "markdown",
   "metadata": {},
   "source": [
    "### Divide the dataset into training and testing sets"
   ]
  },
  {
   "cell_type": "code",
   "execution_count": 10,
   "metadata": {},
   "outputs": [],
   "source": [
    "train_data = shuffled_x[:100]\n",
    "train_label = shuffled_y[:100]\n",
    "\n",
    "test_data = shuffled_x[100:]\n",
    "test_label = shuffled_y[100:]"
   ]
  },
  {
   "cell_type": "markdown",
   "metadata": {},
   "source": [
    "### Just for EPA purpose, calculate all the pair-wise distances in the training set and draw a histogram"
   ]
  },
  {
   "cell_type": "code",
   "execution_count": 11,
   "metadata": {},
   "outputs": [],
   "source": [
    "def euclidean_distance(V1, V2):\n",
    "    '''This function calculates the Euclidean distance of two vectors'''\n",
    "    \n",
    "    sq_dist = 0\n",
    "    \n",
    "    for i in range(len(V1)):\n",
    "        sq_dist += (V1[i] - V2[i]) ** 2\n",
    "        \n",
    "    return sq_dist ** 0.5"
   ]
  },
  {
   "cell_type": "code",
   "execution_count": 12,
   "metadata": {
    "scrolled": true
   },
   "outputs": [
    {
     "data": {
      "image/png": "[encoded data removed]",
      "text/plain": [
       "<Figure size 432x288 with 1 Axes>"
      ]
     },
     "metadata": {
      "needs_background": "light"
     },
     "output_type": "display_data"
    }
   ],
   "source": [
    "dist = []\n",
    "\n",
    "for i in range(len(train_data)-1):\n",
    "    for j in range(i+1, len(train_data)):\n",
    "        dist.append(euclidean_distance(train_data[i], train_data[j]))\n",
    "\n",
    "fig = plt.hist(dist,100)"
   ]
  },
  {
   "cell_type": "markdown",
   "metadata": {},
   "source": [
    "### Now write our own KNN implementation with k = 1. The nearest neighbor."
   ]
  },
  {
   "cell_type": "code",
   "execution_count": 29,
   "metadata": {},
   "outputs": [],
   "source": [
    "class KNearestNeighbors():\n",
    "    \n",
    "    def __init__(self, metric):\n",
    "        self.metric = metric\n",
    "    \n",
    "    def fit(self, X, y):\n",
    "        self.train_data = X\n",
    "        self.train_label = y\n",
    "        \n",
    "    def predict(self, X):\n",
    "        \n",
    "        predictions = []\n",
    "        \n",
    "        for i in range(len(X)):\n",
    "            predictions.append(self.__predit_item(X[i]))\n",
    "        \n",
    "        return predictions\n",
    "    \n",
    "    def __predit_item(self, item):\n",
    "        \n",
    "        min_dist = 10**10\n",
    "        prediction = None\n",
    "        \n",
    "        for i in range(len(self.train_data)):\n",
    "            dist = self.metric(item, self.train_data[i])\n",
    "            if dist < min_dist:\n",
    "                min_dist = dist\n",
    "                prediction = self.train_label[i]\n",
    "        \n",
    "        return prediction"
   ]
  },
  {
   "cell_type": "code",
   "execution_count": 31,
   "metadata": {},
   "outputs": [],
   "source": [
    "KNN = KNearestNeighbors(euclidean_distance)"
   ]
  },
  {
   "cell_type": "code",
   "execution_count": 32,
   "metadata": {},
   "outputs": [],
   "source": [
    "KNN.fit(train_data, train_label)"
   ]
  },
  {
   "cell_type": "code",
   "execution_count": 33,
   "metadata": {},
   "outputs": [],
   "source": [
    "predictions = KNN.predict(test_data)"
   ]
  },
  {
   "cell_type": "code",
   "execution_count": 39,
   "metadata": {},
   "outputs": [
    {
     "name": "stdout",
     "output_type": "stream",
     "text": [
      "total: 50  correct: 48  accuracy: 0.96\n"
     ]
    }
   ],
   "source": [
    "cor_predicts = 0\n",
    "for i in range(len(predictions)):\n",
    "    if predictions[i] == test_label[i]:\n",
    "        cor_predicts += 1\n",
    "\n",
    "accuracy = cor_predicts/len(predictions)\n",
    "print('total: %1d  correct: %1d  accuracy: %3.2f' %(len(predictions), cor_predicts, accuracy))"
   ]
  },
  {
   "cell_type": "code",
   "execution_count": null,
   "metadata": {},
   "outputs": [],
   "source": []
  }
 ],
 "metadata": {
  "kernelspec": {
   "display_name": "Python 3",
   "language": "python",
   "name": "python3"
  },
  "language_info": {
   "codemirror_mode": {
    "name": "ipython",
    "version": 3
   },
   "file_extension": ".py",
   "mimetype": "text/x-python",
   "name": "python",
   "nbconvert_exporter": "python",
   "pygments_lexer": "ipython3",
   "version": "3.7.1"
  }
 },
 "nbformat": 4,
 "nbformat_minor": 2
}
