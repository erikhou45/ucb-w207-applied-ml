{
 "cells": [
  {
   "cell_type": "code",
   "execution_count": 2,
   "metadata": {},
   "outputs": [],
   "source": [
    "# This tells matplotlib not to try opening a new window for each plot.\n",
    "%matplotlib inline\n",
    "\n",
    "# Import a bunch of libraries.\n",
    "import time\n",
    "import numpy as np\n",
    "import matplotlib.pyplot as plt\n",
    "from sklearn.pipeline import Pipeline\n",
    "from sklearn.datasets import fetch_mldata\n",
    "from sklearn.neighbors import KNeighborsClassifier\n",
    "\n"
   ]
  },
  {
   "cell_type": "markdown",
   "metadata": {},
   "source": [
    "`np.empty()` generates empty ndarray of a specified dimension."
   ]
  },
  {
   "cell_type": "code",
   "execution_count": 40,
   "metadata": {
    "scrolled": true
   },
   "outputs": [
    {
     "name": "stdout",
     "output_type": "stream",
     "text": [
      "[[1.05154097e-311 0.00000000e+000]\n",
      " [0.00000000e+000 0.00000000e+000]]\n",
      "[[1.05154097e-311 0.00000000e+000]\n",
      " [0.00000000e+000 0.00000000e+000]]\n"
     ]
    }
   ],
   "source": [
    "print(np.empty([2, 2]))\n",
    "print(np.empty((2, 2)))"
   ]
  },
  {
   "cell_type": "markdown",
   "metadata": {},
   "source": [
    "`random.uniform` gives an array of n(specified) numbers sampled from specified range."
   ]
  },
  {
   "cell_type": "code",
   "execution_count": 4,
   "metadata": {},
   "outputs": [
    {
     "data": {
      "text/plain": [
       "Text(0.5, 1.0, 'Data Scatterplot; Red: Class 0; Blue: Class 1')"
      ]
     },
     "execution_count": 4,
     "metadata": {},
     "output_type": "execute_result"
    },
    {
     "data": {
      "image/png": "[encoded data removed]",
      "text/plain": [
       "<Figure size 432x288 with 1 Axes>"
      ]
     },
     "metadata": {
      "needs_background": "light"
     },
     "output_type": "display_data"
    }
   ],
   "source": [
    "np.random.seed(0) # so things are 'random'\n",
    "\n",
    "# a function to generate some simulated data\n",
    "def make_data(n_per_class):\n",
    "    # initializing data arrays\n",
    "    group = np.empty((0, 2))\n",
    "    group_labels = np.empty((0, 0))\n",
    "    \n",
    "    # a function to define the decision boundary between x and y\n",
    "    boundary_function = lambda x: (x**3.0 + 3.0 * x**2.0 - 6.0 * x- 8.0) / 4.0\n",
    "    \n",
    "    for i in range(2):\n",
    "        # x values\n",
    "        x_value = np.random.uniform(-4, 2, size=n_per_class[i])\n",
    "        \n",
    "        \n",
    "        # here's how the decision boundary works: we add noise so the y value point lies above or\n",
    "        # below the decision boundary\n",
    "        if i == 0:\n",
    "            y_noise = np.random.uniform(-0.5, 5.0, size=n_per_class[i])\n",
    "        else:\n",
    "            y_noise = np.random.uniform(-5.0, 0.5, size=n_per_class[i])\n",
    "            \n",
    "        # make the x and y values\n",
    "        y_value = boundary_function(x_value) + y_noise\n",
    "        \n",
    "        x_noise = np.random.uniform(-3, 3, size=n_per_class[i])\n",
    "        x_value = x_value + x_noise\n",
    "        \n",
    "        # assemble the data\n",
    "        tmp_group_data = np.append(x_value, y_value)\n",
    "        tmp_group_data = tmp_group_data.reshape(n_per_class[i], 2, order='F')\n",
    "    \n",
    "        # assemble the labels\n",
    "        tmp_group_labels = np.repeat([i], n_per_class[i])\n",
    "    \n",
    "        group = np.vstack((group, tmp_group_data))\n",
    "        group_labels = np.append(group_labels, tmp_group_labels)\n",
    "    \n",
    "    # return a dict of data and labels\n",
    "    return({'group': group, 'group_labels': group_labels})\n",
    "\n",
    "\n",
    "# make data; get out the data and labels\n",
    "training_data = make_data([100, 100])\n",
    "train_X = training_data['group']\n",
    "train_labels = training_data['group_labels']\n",
    "\n",
    "# plot it!\n",
    "plt.plot(train_X[:, 0], train_X[:, 1], 'ro')\n",
    "plt.plot(train_X[np.where(train_labels==1), 0][0], \n",
    "         train_X[np.where(train_labels==1), 1][0], 'bo')\n",
    "plt.title(\"Data Scatterplot; Red: Class 0; Blue: Class 1\")\n",
    "\n"
   ]
  },
  {
   "cell_type": "code",
   "execution_count": 9,
   "metadata": {},
   "outputs": [
    {
     "name": "stdout",
     "output_type": "stream",
     "text": [
      "number of incorrect predictions: 33\n"
     ]
    },
    {
     "data": {
      "text/plain": [
       "Text(0.5, 1.0, 'Data Scatterplot of Test Data; Red: incorrect prediction')"
      ]
     },
     "execution_count": 9,
     "metadata": {},
     "output_type": "execute_result"
    },
    {
     "data": {
      "image/png": "[encoded data removed]",
      "text/plain": [
       "<Figure size 432x288 with 1 Axes>"
      ]
     },
     "metadata": {
      "needs_background": "light"
     },
     "output_type": "display_data"
    }
   ],
   "source": [
    "# fit KNN to the data, see what it gets wrong?\n",
    "\n",
    "np.random.seed(5) # so things are 'random'\n",
    "\n",
    "test_data = make_data([100, 100])\n",
    "test_X = test_data['group']\n",
    "test_true_labels = test_data['group_labels']\n",
    "\n",
    "# try out some different k here\n",
    "model = KNeighborsClassifier(n_neighbors=1)\n",
    "model.fit(train_X, train_labels)\n",
    "test_predicted_labels = model.predict(test_X)\n",
    "\n",
    "wrong_prediction = (test_predicted_labels != test_true_labels)\n",
    "\n",
    "print('number of incorrect predictions:', np.sum(wrong_prediction)) \n",
    "\n",
    "plt.plot(test_X[:, 0], test_X[:, 1], 'wo')\n",
    "plt.plot(test_X[np.where(wrong_prediction), 0][0], \n",
    "         test_X[np.where(wrong_prediction), 1][0], 'ro')\n",
    "plt.title(\"Data Scatterplot of Test Data; Red: incorrect prediction\")"
   ]
  },
  {
   "cell_type": "code",
   "execution_count": 10,
   "metadata": {},
   "outputs": [
    {
     "name": "stdout",
     "output_type": "stream",
     "text": [
      "[[ 40000     25      0]\n",
      " [ 60000     35      0]\n",
      " [ 80000     45      0]\n",
      " [ 20000     20      0]\n",
      " [120000     35      0]\n",
      " [ 62000     40      1]\n",
      " [100000     60      1]\n",
      " [220000     48      1]\n",
      " [150000     33      1]]\n",
      "[0]\n",
      "[[-0.93924606 -1.12903732  0.        ]\n",
      " [-0.59561945 -0.25306009  0.        ]\n",
      " [-0.25199284  0.62291714  0.        ]\n",
      " [-1.28287266 -1.56702594  0.        ]\n",
      " [ 0.43526037 -0.25306009  0.        ]\n",
      " [-0.56125679  0.18492853  1.        ]\n",
      " [ 0.09163376  1.93688299  1.        ]\n",
      " [ 2.1533934   0.88571031  1.        ]\n",
      " [ 0.95070028 -0.42825554  1.        ]]\n",
      "[1]\n"
     ]
    }
   ],
   "source": [
    "# scaling the data is important!\n",
    "\n",
    "# the loan data, two covariates\n",
    "loan = np.array([40000, 60000, 80000, 20000, 120000, 62000, 100000, 220000, 150000])\n",
    "age = np.array([25, 35, 45, 20, 35, 40, 60, 48, 33])\n",
    "\n",
    "raw_loan_data = np.hstack((loan.reshape(9, 1), age.reshape(9, 1)))\n",
    "loan_labels = np.array([0, 0, 0, 0, 0, 1, 1, 1, 1])\n",
    "\n",
    "print(np.hstack((raw_loan_data, loan_labels.reshape(9, 1))))\n",
    "\n",
    "# fit a knn in the original space\n",
    "model_raw = KNeighborsClassifier(n_neighbors=1)\n",
    "model_raw.fit(raw_loan_data, loan_labels)\n",
    "\n",
    "# predicting in the original space\n",
    "print(model_raw.predict([[21000, 45]]))\n",
    "\n",
    "# functions to normalize the two features\n",
    "norm_loan = lambda x: (x - np.mean(loan)) / np.std(loan)\n",
    "norm_age = lambda x: (x - np.mean(age)) / np.std(age)\n",
    "\n",
    "# make normalized versions of the features; fit a new model\n",
    "loan_normalized = norm_loan(loan)\n",
    "age_normalized = norm_age(age)\n",
    "normalized_loan_data = np.hstack((loan_normalized.reshape(9, 1), \n",
    "                                  age_normalized.reshape(9, 1)))\n",
    "\n",
    "print(np.hstack((normalized_loan_data, loan_labels.reshape(9, 1))))\n",
    "\n",
    "model_normalized = KNeighborsClassifier(n_neighbors=1)\n",
    "model_normalized.fit(normalized_loan_data, loan_labels)\n",
    "\n",
    "# note that we must predict in norm space\n",
    "print(model_normalized.predict([[norm_loan(21000), norm_age(45)]]))"
   ]
  },
  {
   "cell_type": "code",
   "execution_count": 14,
   "metadata": {},
   "outputs": [
    {
     "data": {
      "text/plain": [
       "[-3, 3, -3, 3]"
      ]
     },
     "execution_count": 14,
     "metadata": {},
     "output_type": "execute_result"
    },
    {
     "data": {
      "image/png": "[encoded data removed]",
      "text/plain": [
       "<Figure size 1080x360 with 2 Axes>"
      ]
     },
     "metadata": {
      "needs_background": "light"
     },
     "output_type": "display_data"
    }
   ],
   "source": [
    "# what is going on? let's plot it!\n",
    "plt.figure(figsize=(15,5))\n",
    "\n",
    "# raw space\n",
    "plt.subplot(1, 2, 1)\n",
    "plt.plot(loan, age, 'bo')\n",
    "plt.plot(loan[np.where(loan_labels==0)], \n",
    "         age[np.where(loan_labels==0)], 'ro')\n",
    "plt.plot([21000], [45], 'yo')\n",
    "plt.title(\"Un-normalized data: Colored by label (blue == 1; white == test)\")\n",
    "plt.xlabel('Loan Amount')\n",
    "plt.ylabel('Age')\n",
    "plt.axis([-10000, 250000, -10000, 25000]) \n",
    "\n",
    "# normalized space\n",
    "plt.subplot(1, 2, 2)\n",
    "plt.plot(loan_normalized, age_normalized, 'bo')\n",
    "plt.plot(loan_normalized[np.where(loan_labels==0)], \n",
    "         age_normalized[np.where(loan_labels==0)], 'ro')\n",
    "plt.plot([norm_loan(21000)], [norm_age(45)], 'yo')\n",
    "plt.title(\"Normalized data: Colored by label (blue == 1; white == test)\")\n",
    "plt.xlabel('Loan Amount (normed)')\n",
    "plt.ylabel('Age (normed)')\n",
    "plt.axis([-3, 3, -3, 3])"
   ]
  },
  {
   "cell_type": "code",
   "execution_count": null,
   "metadata": {
    "collapsed": true
   },
   "outputs": [],
   "source": []
  }
 ],
 "metadata": {
  "kernelspec": {
   "display_name": "Python 3",
   "language": "python",
   "name": "python3"
  },
  "language_info": {
   "codemirror_mode": {
    "name": "ipython",
    "version": 3
   },
   "file_extension": ".py",
   "mimetype": "text/x-python",
   "name": "python",
   "nbconvert_exporter": "python",
   "pygments_lexer": "ipython3",
   "version": "3.7.1"
  }
 },
 "nbformat": 4,
 "nbformat_minor": 1
}
