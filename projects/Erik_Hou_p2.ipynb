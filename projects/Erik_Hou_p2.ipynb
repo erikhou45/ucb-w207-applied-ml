{
 "cells": [
  {
   "cell_type": "markdown",
   "metadata": {},
   "source": [
    "# Project 2: Topic Classification"
   ]
  },
  {
   "cell_type": "markdown",
   "metadata": {},
   "source": [
    "In this project, you'll work with text data from newsgroup postings on a variety of topics. You'll train classifiers to distinguish between the topics based on the text of the posts. Whereas with digit classification, the input is relatively dense: a 28x28 matrix of pixels, many of which are non-zero, here we'll represent each document with a \"bag-of-words\" model. As you'll see, this makes the feature representation quite sparse -- only a few words of the total vocabulary are active in any given document. The bag-of-words assumption here is that the label depends only on the words; their order is not important.\n",
    "\n",
    "The SK-learn documentation on feature extraction will prove useful:\n",
    "http://scikit-learn.org/stable/modules/feature_extraction.html\n",
    "\n",
    "Each problem can be addressed succinctly with the included packages -- please don't add any more. Grading will be based on writing clean, commented code, along with a few short answers.\n",
    "\n",
    "As always, you're welcome to work on the project in groups and discuss ideas on the course wall, but please prepare your own write-up and write your own code."
   ]
  },
  {
   "cell_type": "code",
   "execution_count": 2,
   "metadata": {},
   "outputs": [],
   "source": [
    "# This tells matplotlib not to try opening a new window for each plot.\n",
    "%matplotlib inline\n",
    "\n",
    "# General libraries.\n",
    "import re\n",
    "import numpy as np\n",
    "import matplotlib.pyplot as plt\n",
    "\n",
    "# SK-learn libraries for learning.\n",
    "from sklearn.pipeline import Pipeline\n",
    "from sklearn.neighbors import KNeighborsClassifier\n",
    "from sklearn.linear_model import LogisticRegression\n",
    "from sklearn.naive_bayes import BernoulliNB\n",
    "from sklearn.naive_bayes import MultinomialNB\n",
    "from sklearn.model_selection import GridSearchCV\n",
    "\n",
    "# SK-learn libraries for evaluation.\n",
    "from sklearn.metrics import confusion_matrix\n",
    "from sklearn import metrics\n",
    "from sklearn.metrics import classification_report\n",
    "\n",
    "# SK-learn library for importing the newsgroup data.\n",
    "from sklearn.datasets import fetch_20newsgroups\n",
    "\n",
    "# SK-learn libraries for feature extraction from text.\n",
    "from sklearn.feature_extraction.text import *"
   ]
  },
  {
   "cell_type": "markdown",
   "metadata": {},
   "source": [
    "Load the data, stripping out metadata so that we learn classifiers that only use textual features. By default, newsgroups data is split into train and test sets. We further split the test so we have a dev set. Note that we specify 4 categories to use for this project. If you remove the categories argument from the fetch function, you'll get all 20 categories."
   ]
  },
  {
   "cell_type": "code",
   "execution_count": 3,
   "metadata": {},
   "outputs": [
    {
     "name": "stdout",
     "output_type": "stream",
     "text": [
      "training label shape: (2034,)\n",
      "test label shape: (677,)\n",
      "dev label shape: (676,)\n",
      "labels names: ['alt.atheism', 'comp.graphics', 'sci.space', 'talk.religion.misc']\n"
     ]
    }
   ],
   "source": [
    "categories = ['alt.atheism', 'talk.religion.misc', 'comp.graphics', 'sci.space']\n",
    "newsgroups_train = fetch_20newsgroups(subset='train',\n",
    "                                      remove=('headers', 'footers', 'quotes'),\n",
    "                                      categories=categories)\n",
    "newsgroups_test = fetch_20newsgroups(subset='test',\n",
    "                                     remove=('headers', 'footers', 'quotes'),\n",
    "                                     categories=categories)\n",
    "\n",
    "num_test = len(newsgroups_test.target)\n",
    "test_data, test_labels = newsgroups_test.data[int(num_test/2):], newsgroups_test.target[int(num_test/2):]\n",
    "dev_data, dev_labels = newsgroups_test.data[:int(num_test/2)], newsgroups_test.target[:int(num_test/2)]\n",
    "train_data, train_labels = newsgroups_train.data, newsgroups_train.target\n",
    "\n",
    "print('training label shape:', train_labels.shape)\n",
    "print('test label shape:', test_labels.shape)\n",
    "print('dev label shape:', dev_labels.shape)\n",
    "print('labels names:', newsgroups_train.target_names)"
   ]
  },
  {
   "cell_type": "markdown",
   "metadata": {},
   "source": [
    "(1) For each of the first 5 training examples, print the text of the message along with the label.\n",
    "\n",
    "[2 pts]"
   ]
  },
  {
   "cell_type": "code",
   "execution_count": 5,
   "metadata": {},
   "outputs": [
    {
     "name": "stdout",
     "output_type": "stream",
     "text": [
      "Example 1, Label: comp.graphics\n",
      "Text:\n",
      " Hi,\n",
      "\n",
      "I've noticed that if you only save a model (with all your mapping planes\n",
      "positioned carefully) to a .3DS file that when you reload it after restarting\n",
      "3DS, they are given a default position and orientation.  But if you save\n",
      "to a .PRJ file their positions/orientation are preserved.  Does anyone\n",
      "know why this information is not stored in the .3DS file?  Nothing is\n",
      "explicitly said in the manual about saving texture rules in the .PRJ file. \n",
      "I'd like to be able to read the texture rule information, does anyone have \n",
      "the format for the .PRJ file?\n",
      "\n",
      "Is the .CEL file format available from somewhere?\n",
      "\n",
      "Rych\n",
      "-------------------------------------------------- \n",
      "\n",
      "Example 2, Label: talk.religion.misc\n",
      "Text:\n",
      " \n",
      "\n",
      "Seems to be, barring evidence to the contrary, that Koresh was simply\n",
      "another deranged fanatic who thought it neccessary to take a whole bunch of\n",
      "folks with him, children and all, to satisfy his delusional mania. Jim\n",
      "Jones, circa 1993.\n",
      "\n",
      "\n",
      "Nope - fruitcakes like Koresh have been demonstrating such evil corruption\n",
      "for centuries.\n",
      "-------------------------------------------------- \n",
      "\n",
      "Example 3, Label: sci.space\n",
      "Text:\n",
      " \n",
      " >In article <1993Apr19.020359.26996@sq.sq.com>, msb@sq.sq.com (Mark Brader) \n",
      "\n",
      "MB>                                                             So the\n",
      "MB> 1970 figure seems unlikely to actually be anything but a perijove.\n",
      "\n",
      "JG>Sorry, _perijoves_...I'm not used to talking this language.\n",
      "\n",
      "Couldn't we just say periapsis or apoapsis?\n",
      "\n",
      " \n",
      "-------------------------------------------------- \n",
      "\n",
      "Example 4, Label: alt.atheism\n",
      "Text:\n",
      " I have a request for those who would like to see Charley Wingate\n",
      "respond to the \"Charley Challenges\" (and judging from my e-mail, there\n",
      "appear to be quite a few of you.)  \n",
      "\n",
      "It is clear that Mr. Wingate intends to continue to post tangential or\n",
      "unrelated articles while ingoring the Challenges themselves.  Between\n",
      "the last two re-postings of the Challenges, I noted perhaps a dozen or\n",
      "more posts by Mr. Wingate, none of which answered a single Challenge.  \n",
      "\n",
      "It seems unmistakable to me that Mr. Wingate hopes that the questions\n",
      "will just go away, and he is doing his level best to change the\n",
      "subject.  Given that this seems a rather common net.theist tactic, I\n",
      "would like to suggest that we impress upon him our desire for answers,\n",
      "in the following manner:\n",
      "\n",
      "1. Ignore any future articles by Mr. Wingate that do not address the\n",
      "Challenges, until he answers them or explictly announces that he\n",
      "refuses to do so.\n",
      "\n",
      "--or--\n",
      "\n",
      "2. If you must respond to one of his articles, include within it\n",
      "something similar to the following:\n",
      "\n",
      "    \"Please answer the questions posed to you in the Charley Challenges.\"\n",
      "\n",
      "Really, I'm not looking to humiliate anyone here, I just want some\n",
      "honest answers.  You wouldn't think that honesty would be too much to\n",
      "ask from a devout Christian, would you?  \n",
      "\n",
      "Nevermind, that was a rhetorical question.\n",
      "-------------------------------------------------- \n",
      "\n",
      "Example 5, Label: sci.space\n",
      "Text:\n",
      " AW&ST  had a brief blurb on a Manned Lunar Exploration confernce\n",
      "May 7th  at Crystal City Virginia, under the auspices of AIAA.\n",
      "\n",
      "Does anyone know more about this?  How much, to attend????\n",
      "\n",
      "Anyone want to go?\n",
      "-------------------------------------------------- \n",
      "\n"
     ]
    }
   ],
   "source": [
    "def P1(num_examples=5):\n",
    "### STUDENT START ###\n",
    "    # iterate through the specified first number of examples and print them out\n",
    "    for i in range(num_examples):\n",
    "        print('Example %d, Label:' %(i+1), newsgroups_train.target_names[train_labels[i]])\n",
    "        print('Text:\\n', train_data[i])\n",
    "\n",
    "        print('-'*50, '\\n')\n",
    "\n",
    "### STUDENT END ###\n",
    "P1()"
   ]
  },
  {
   "cell_type": "markdown",
   "metadata": {},
   "source": [
    "(2) Use CountVectorizer to turn the raw training text into feature vectors. You should use the fit_transform function, which makes 2 passes through the data: first it computes the vocabulary (\"fit\"), second it converts the raw text into feature vectors using the vocabulary (\"transform\").\n",
    "\n",
    "The vectorizer has a lot of options. To get familiar with some of them, write code to answer these questions:\n",
    "\n",
    "a. The output of the transform (also of fit_transform) is a sparse matrix: http://docs.scipy.org/doc/scipy-0.14.0/reference/generated/scipy.sparse.csr_matrix.html. What is the size of the vocabulary? What is the average number of non-zero features per example? What fraction of the entries in the matrix are non-zero? Hint: use \"nnz\" and \"shape\" attributes.\n",
    "\n",
    "b. What are the 0th and last feature strings (in alphabetical order)? Hint: use the vectorizer's get_feature_names function.\n",
    "\n",
    "c. Specify your own vocabulary with 4 words: [\"atheism\", \"graphics\", \"space\", \"religion\"]. Confirm the training vectors are appropriately shaped. Now what's the average number of non-zero features per example?\n",
    "\n",
    "d. Instead of extracting unigram word features, use \"analyzer\" and \"ngram_range\" to extract bigram and trigram character features. What size vocabulary does this yield?\n",
    "\n",
    "e. Use the \"min_df\" argument to prune words that appear in fewer than 10 documents. What size vocabulary does this yield?\n",
    "\n",
    "f. Using the standard CountVectorizer, what fraction of the words in the dev data are missing from the vocabulary? Hint: build a vocabulary for both train and dev and look at the size of the difference.\n",
    "\n",
    "[6 pts]"
   ]
  },
  {
   "cell_type": "code",
   "execution_count": 62,
   "metadata": {
    "scrolled": false
   },
   "outputs": [
    {
     "name": "stdout",
     "output_type": "stream",
     "text": [
      "Answers to question a:\n",
      "\tThe size of the vocabulary is: 26879\n",
      "\tThe average nonzero feature count per example: 96.71\n",
      "\tThe fraction of the entries in the matrix are non-zero: 0.00360\n",
      "\n",
      "\n",
      "Answers to question b:\n",
      "\tThe 0th feature: 00\n",
      "\tThe last feature: zyxel\n",
      "\n",
      "\n",
      "Answers to question c:\n",
      "\tThe shape of the transformed data is: (2034, 4)\n",
      "\tThe shape is expected since we have four words in our vocab and the same number of examples used in training\n",
      "\tThe average nonzero feature count per example:  0.27\n",
      "\n",
      "\n",
      "Answers to question d:\n",
      "\tVocab size is: 35478\n",
      "\n",
      "\n",
      "Answers to question e:\n",
      "\tVocab size of only the words appearing in at least ten documents is: 3064\n",
      "\n",
      "\n",
      "Answers to question f:\n",
      "\tThere are 16246 words in the dev data, out of which, 4027 do not exist in the train data.\n",
      "\tThat is 24.8%\n"
     ]
    }
   ],
   "source": [
    "def P2():\n",
    "### STUDENT START ###\n",
    "\n",
    "\n",
    "    v1 = CountVectorizer() # create an object of standard CountVectorizer\n",
    "    data_matrix = v1.fit_transform(train_data) # get the sparse matrix of the transformed train data\n",
    "    num_examples, num_features = data_matrix.shape # get the number of example and features\n",
    "\n",
    "    ############### answers to question a.\n",
    "\n",
    "    print('Answers to question a:')\n",
    "\n",
    "    # get size of vocabulary\n",
    "    print('\\tThe size of the vocabulary is:', num_features)\n",
    "\n",
    "    # get the average nonzero feature count per example\n",
    "    print('\\tThe average nonzero feature count per example: %5.2f' %(data_matrix.nnz/num_examples))\n",
    "\n",
    "    # get the fraction of the entries in the matrix are non-zero\n",
    "    print('\\tThe fraction of the entries in the matrix are non-zero: %1.5f' %(data_matrix.nnz/(num_examples * num_features)))\n",
    "\n",
    "    print('\\n')\n",
    "\n",
    "    ############### answers to question b.\n",
    "\n",
    "    feature_names = v1.get_feature_names()\n",
    "\n",
    "    print('Answers to question b:')\n",
    "    # print the 0th and last feature strings\n",
    "    print('\\tThe 0th feature:', feature_names[0])\n",
    "    print('\\tThe last feature:', feature_names[-1])\n",
    "    print('\\n')\n",
    "\n",
    "\n",
    "    ############### answers to question c.\n",
    "\n",
    "    # build my vocab with the four words\n",
    "    my_vocab = [\"atheism\", \"graphics\", \"space\", \"religion\"]\n",
    "    # fit the vocab\n",
    "    v1.fit(my_vocab)\n",
    "    # transform the data with the model of the vocab fitted\n",
    "    my_vocab_data = v1.transform(train_data)\n",
    "    print('Answers to question c:')\n",
    "    # confirm the shape\n",
    "    print('\\tThe shape of the transformed data is:', my_vocab_data.shape)\n",
    "    print('\\tThe shape is expected since we have four words in our vocab and the same number of examples used in training')\n",
    "    print('\\tThe average nonzero feature count per example: %5.2f' %(my_vocab_data.nnz/num_examples))\n",
    "    print('\\n')\n",
    "\n",
    "    ############### answers to question d.\n",
    "\n",
    "    # generate a vectorizer for bi-gram and tri-gram character features\n",
    "    v2 = CountVectorizer(analyzer = 'char', ngram_range = (2,3))\n",
    "    # fit the training data\n",
    "    v2.fit(train_data)\n",
    "    # print answer\n",
    "    print('Answers to question d:')\n",
    "    print('\\tVocab size is:', len(v2.get_feature_names()))\n",
    "    print('\\n')\n",
    "\n",
    "    ############### answers to question e.\n",
    "    # generate a vectorizer for with the cut-off of 10\n",
    "    v3 = CountVectorizer(min_df = 10)\n",
    "    v3.fit(train_data)\n",
    "    # print answer\n",
    "    print('Answers to question e:')\n",
    "    print('\\tVocab size of only the words appearing in at least ten documents is:', len(v3.get_feature_names()))\n",
    "    print('\\n')\n",
    "\n",
    "    ############### answers to question f.\n",
    "    # fit dev data and get the features\n",
    "    v1.fit(dev_data)\n",
    "    dev_features = v1.get_feature_names()\n",
    "\n",
    "    # fit train data again\n",
    "    v1.fit(train_data)\n",
    "\n",
    "    # identify the features in dev but not in train\n",
    "    not_in_train = 0\n",
    "    for feature in dev_features:\n",
    "        if v1.vocabulary_.get(feature) == None:\n",
    "            not_in_train += 1\n",
    "    # print answers\n",
    "    print('Answers to question f:')\n",
    "    print('\\tThere are %d words in the dev data, out of which, %d do not exist in the train data.' %(len(dev_features), not_in_train))\n",
    "    print('\\tThat is %3.1f%%' %(not_in_train/len(dev_features)*100))\n",
    "\n",
    "### STUDENT END ###\n",
    "P2()"
   ]
  },
  {
   "cell_type": "markdown",
   "metadata": {},
   "source": [
    "(3) Use the default CountVectorizer options and report the f1 score (use metrics.f1_score) for a k nearest neighbors classifier; find the optimal value for k. Also fit a Multinomial Naive Bayes model and find the optimal value for alpha. Finally, fit a logistic regression model and find the optimal value for the regularization strength C using l2 regularization. A few questions:\n",
    "\n",
    "a. Why doesn't nearest neighbors work well for this problem?\n",
    "\n",
    "b. Any ideas why logistic regression doesn't work as well as Naive Bayes?\n",
    "\n",
    "c. Logistic regression estimates a weight vector for each class, which you can access with the coef\\_ attribute. Output the sum of the squared weight values for each class for each setting of the C parameter. Briefly explain the relationship between the sum and the value of C.\n",
    "\n",
    "[4 pts]"
   ]
  },
  {
   "cell_type": "code",
   "execution_count": 20,
   "metadata": {
    "scrolled": false
   },
   "outputs": [
    {
     "name": "stdout",
     "output_type": "stream",
     "text": [
      "After searching through k = [1, 2, 3, 4, 5, 6, 7, 8, 9, 10, 15, 20, 30, 35, 40, 45, 50, 60, 70, 80, 100, 200, 300]\n",
      "The optimal k is: 40 and the f1 score is: 0.44\n",
      "--------------------------------------------------\n",
      "After searching through alpha = [0.0, 0.0001, 0.001, 0.01, 0.1, 0.5, 1.0, 2.0, 10.0]\n",
      "The optimal k is: 0.1 and the f1 score is: 0.77\n",
      "--------------------------------------------------\n"
     ]
    },
    {
     "name": "stderr",
     "output_type": "stream",
     "text": [
      "C:\\Users\\erik.hou\\AppData\\Local\\Continuum\\anaconda3\\lib\\site-packages\\sklearn\\naive_bayes.py:480: UserWarning: alpha too small will result in numeric errors, setting alpha = 1.0e-10\n",
      "  'setting alpha = %.1e' % _ALPHA_MIN)\n",
      "C:\\Users\\erik.hou\\AppData\\Local\\Continuum\\anaconda3\\lib\\site-packages\\sklearn\\linear_model\\logistic.py:433: FutureWarning: Default solver will be changed to 'lbfgs' in 0.22. Specify a solver to silence this warning.\n",
      "  FutureWarning)\n",
      "C:\\Users\\erik.hou\\AppData\\Local\\Continuum\\anaconda3\\lib\\site-packages\\sklearn\\linear_model\\logistic.py:460: FutureWarning: Default multi_class will be changed to 'auto' in 0.22. Specify the multi_class option to silence this warning.\n",
      "  \"this warning.\", FutureWarning)\n"
     ]
    },
    {
     "name": "stdout",
     "output_type": "stream",
     "text": [
      "After searching through c = [0.0001, 0.001, 0.01, 0.1, 0.5, 1.0, 2.0, 10.0]\n",
      "The optimal c is: 0 and the f1 score is: 0.69\n",
      "--------------------------------------------------\n"
     ]
    }
   ],
   "source": [
    "def P3():\n",
    "### STUDENT START ###\n",
    "\n",
    "    default_vectorizer = CountVectorizer()\n",
    "    train_matrix = default_vectorizer.fit_transform(train_data)\n",
    "    dev_matrix = default_vectorizer.transform(dev_data)\n",
    "\n",
    "    ks = [1,2,3,4,5,6,7,8,9,10,15,20,30,35,40,45,50,60,70,80, 100, 200, 300]\n",
    "\n",
    "    f1_scores = []\n",
    "    for k in ks:\n",
    "        clf_knn = KNeighborsClassifier(n_neighbors = k)\n",
    "        clf_knn.fit(train_matrix, train_labels)\n",
    "        predictions = clf_knn.predict(dev_matrix)\n",
    "\n",
    "        f1_scores.append(metrics.f1_score(dev_labels, predictions, average = 'macro'))\n",
    "\n",
    "    max_f1 = 0\n",
    "    optimal_k = 0\n",
    "    for i in range(len(ks)):\n",
    "        if f1_scores[i] > max_f1:\n",
    "            max_f1 = f1_scores[i]\n",
    "            optimal_k = ks[i]\n",
    "\n",
    "    print('After searching through k =', ks)\n",
    "    print('The optimal k is:', optimal_k, 'and the f1 score is:', round(max_f1,2))\n",
    "    print('-'*50)\n",
    "\n",
    "    alphas = [0.0, 0.0001, 0.001, 0.01, 0.1, 0.5, 1.0, 2.0, 10.0]\n",
    "\n",
    "    f1_scores = []\n",
    "    accuracies = []\n",
    "    for alpha in alphas:\n",
    "        mnb = MultinomialNB(alpha = alpha)\n",
    "        mnb.fit(train_matrix, train_labels)\n",
    "        predictions = mnb.predict(dev_matrix)\n",
    "\n",
    "        f1_scores.append(metrics.f1_score(dev_labels, predictions, average = 'macro'))\n",
    "\n",
    "    max_f1 = 0\n",
    "    optimal_alpha = 0\n",
    "    for i in range(len(alphas)):\n",
    "        if f1_scores[i] > max_f1:\n",
    "            max_f1 = f1_scores[i]\n",
    "            optimal_alpha = alphas[i]    \n",
    "\n",
    "    print('After searching through alpha =', alphas)\n",
    "    print('The optimal k is:', optimal_alpha, 'and the f1 score is:', round(max_f1,2))\n",
    "    print('-'*50)\n",
    "\n",
    "    cs = [0.0001, 0.001, 0.01, 0.1, 0.5, 1.0, 2.0, 10.0]\n",
    "\n",
    "    f1_scores = []\n",
    "    for c in cs:\n",
    "        logist_regress = LogisticRegression(C = c)\n",
    "        logist_regress.fit(train_matrix, train_labels)\n",
    "        predictions = logist_regress.predict(dev_matrix)\n",
    "\n",
    "        f1_scores.append(metrics.f1_score(dev_labels, predictions, average = 'macro'))\n",
    "\n",
    "    max_f1 = 0\n",
    "    optimal_c = 0\n",
    "    for i in range(len(cs)):\n",
    "        if f1_scores[i] > max_f1:\n",
    "            max_f1 = f1_scores[i]\n",
    "            optimal_alpha = alphas[i]    \n",
    "\n",
    "    print('After searching through c =', cs)\n",
    "    print('The optimal c is:', optimal_c, 'and the f1 score is:', round(max_f1,2))\n",
    "    print('-'*50)\n",
    "\n",
    "### STUDENT END ###\n",
    "P3()"
   ]
  },
  {
   "cell_type": "markdown",
   "metadata": {},
   "source": [
    "ANSWER:\n",
    "\n",
    "1. Because the feature space is too large(the size of the vocabulary is 26879), as a result, KNN algorithm performs poorly. In such a giant feature space, all observations are very far from each other. Therefore, not much is learned from the training set.\n",
    "\n",
    "2. Not sure why. Guessing it has to do with how LR is a linear classifier.\n",
    "\n",
    "3. \n"
   ]
  },
  {
   "cell_type": "markdown",
   "metadata": {},
   "source": [
    "(4) Train a logistic regression model. Find the 5 features with the largest weights for each label -- 20 features in total. Create a table with 20 rows and 4 columns that shows the weight for each of these features for each of the labels. Create the table again with bigram features. Any surprising features in this table?\n",
    "\n",
    "[5 pts]"
   ]
  },
  {
   "cell_type": "code",
   "execution_count": 6,
   "metadata": {},
   "outputs": [],
   "source": [
    "#def P4():\n",
    "### STUDENT START ###\n",
    "\n",
    "\n",
    "### STUDENT END ###\n",
    "#P4()"
   ]
  },
  {
   "cell_type": "markdown",
   "metadata": {},
   "source": [
    "ANSWER:"
   ]
  },
  {
   "cell_type": "markdown",
   "metadata": {},
   "source": [
    "(5) Try to improve the logistic regression classifier by passing a custom preprocessor to CountVectorizer. The preprocessing function runs on the raw text, before it is split into words by the tokenizer. Your preprocessor should try to normalize the input in various ways to improve generalization. For example, try lowercasing everything, replacing sequences of numbers with a single token, removing various other non-letter characters, and shortening long words. If you're not already familiar with regular expressions for manipulating strings, see https://docs.python.org/2/library/re.html, and re.sub() in particular. With your new preprocessor, how much did you reduce the size of the dictionary?\n",
    "\n",
    "For reference, I was able to improve dev F1 by 2 points.\n",
    "\n",
    "[4 pts]"
   ]
  },
  {
   "cell_type": "markdown",
   "metadata": {},
   "source": [
    "countvectorizer automatically lowercase everything."
   ]
  },
  {
   "cell_type": "code",
   "execution_count": 7,
   "metadata": {},
   "outputs": [],
   "source": [
    "def empty_preprocessor(s):\n",
    "    return s\n",
    "\n",
    "#def better_preprocessor(s):\n",
    "### STUDENT START ###\n",
    "\n",
    "### STUDENT END ###\n",
    "\n",
    "#def P5():\n",
    "### STUDENT START ###\n",
    "\n",
    "    \n",
    "### STUDENT END ###\n",
    "#P5()"
   ]
  },
  {
   "cell_type": "markdown",
   "metadata": {},
   "source": [
    "(6) The idea of regularization is to avoid learning very large weights (which are likely to fit the training data, but not generalize well) by adding a penalty to the total size of the learned weights. That is, logistic regression seeks the set of weights that minimizes errors in the training data AND has a small size. The default regularization, L2, computes this size as the sum of the squared weights (see P3, above). L1 regularization computes this size as the sum of the absolute values of the weights. The result is that whereas L2 regularization makes all the weights relatively small, L1 regularization drives lots of the weights to 0, effectively removing unimportant features.\n",
    "\n",
    "Train a logistic regression model using a \"l1\" penalty. Output the number of learned weights that are not equal to zero. How does this compare to the number of non-zero weights you get with \"l2\"? Now, reduce the size of the vocabulary by keeping only those features that have at least one non-zero weight and retrain a model using \"l2\".\n",
    "\n",
    "Make a plot showing accuracy of the re-trained model vs. the vocabulary size you get when pruning unused features by adjusting the C parameter.\n",
    "\n",
    "Note: The gradient descent code that trains the logistic regression model sometimes has trouble converging with extreme settings of the C parameter. Relax the convergence criteria by setting tol=.01 (the default is .0001).\n",
    "\n",
    "[4 pts]"
   ]
  },
  {
   "cell_type": "code",
   "execution_count": 8,
   "metadata": {},
   "outputs": [],
   "source": [
    "def P6():\n",
    "    # Keep this random seed here to make comparison easier.\n",
    "    np.random.seed(0)\n",
    "\n",
    "    ### STUDENT START ###\n",
    "\n",
    "    \n",
    "\n",
    "    ### STUDENT END ###\n",
    "P6()"
   ]
  },
  {
   "cell_type": "markdown",
   "metadata": {},
   "source": [
    "(7) Use the TfidfVectorizer -- how is this different from the CountVectorizer? Train a logistic regression model with C=100.\n",
    "\n",
    "Make predictions on the dev data and show the top 3 documents where the ratio R is largest, where R is:\n",
    "\n",
    "maximum predicted probability / predicted probability of the correct label\n",
    "\n",
    "What kinds of mistakes is the model making? Suggest a way to address one particular issue that you see.\n",
    "\n",
    "[4 pts]"
   ]
  },
  {
   "cell_type": "code",
   "execution_count": 9,
   "metadata": {},
   "outputs": [],
   "source": [
    "#def P7():\n",
    "    ### STUDENT START ###\n",
    "\n",
    "\n",
    "\n",
    "    ### STUDENT END ###\n",
    "#P7()"
   ]
  },
  {
   "cell_type": "markdown",
   "metadata": {},
   "source": [
    "ANSWER:"
   ]
  },
  {
   "cell_type": "markdown",
   "metadata": {},
   "source": [
    "(8) EXTRA CREDIT\n",
    "\n",
    "Try implementing one of your ideas based on your error analysis. Use logistic regression as your underlying model.\n",
    "\n",
    "- [1 pt] for a reasonable attempt\n",
    "- [2 pts] for improved performance"
   ]
  }
 ],
 "metadata": {
  "kernelspec": {
   "display_name": "Python 3",
   "language": "python",
   "name": "python3"
  },
  "language_info": {
   "codemirror_mode": {
    "name": "ipython",
    "version": 3
   },
   "file_extension": ".py",
   "mimetype": "text/x-python",
   "name": "python",
   "nbconvert_exporter": "python",
   "pygments_lexer": "ipython3",
   "version": "3.7.1"
  }
 },
 "nbformat": 4,
 "nbformat_minor": 1
}
