{
 "cells": [
  {
   "cell_type": "markdown",
   "metadata": {},
   "source": [
    "How to find the good interactions between features to use in the model"
   ]
  },
  {
   "cell_type": "code",
   "execution_count": 445,
   "metadata": {},
   "outputs": [],
   "source": [
    "import csv\n",
    "import numpy as np\n",
    "import matplotlib.pyplot as plt\n",
    "from sklearn.naive_bayes import MultinomialNB\n",
    "from sklearn.model_selection import GridSearchCV\n",
    "from sklearn import metrics\n",
    "from sklearn.preprocessing import PolynomialFeatures"
   ]
  },
  {
   "cell_type": "code",
   "execution_count": 407,
   "metadata": {},
   "outputs": [],
   "source": [
    "with open('forest-cover-type-prediction/train.csv', 'rt') as f:\n",
    "    reader = csv.reader(f)\n",
    "    header = next(reader)"
   ]
  },
  {
   "cell_type": "code",
   "execution_count": 408,
   "metadata": {},
   "outputs": [],
   "source": [
    "my_data = np.genfromtxt('forest-cover-type-prediction/train.csv', delimiter=',')"
   ]
  },
  {
   "cell_type": "code",
   "execution_count": 409,
   "metadata": {},
   "outputs": [],
   "source": [
    "data = my_data[1:, 1:my_data.shape[1]-1]  # avoid getting headers and ID column\n",
    "labels = my_data[1:,-1]"
   ]
  },
  {
   "cell_type": "code",
   "execution_count": 410,
   "metadata": {},
   "outputs": [],
   "source": [
    "# shuffle the training data\n",
    "np.random.seed(0)\n",
    "\n",
    "shuffle = np.random.permutation(np.arange(data.shape[0]))\n",
    "\n",
    "shuffled_data = data[shuffle]\n",
    "shuffled_labels = labels[shuffle]\n",
    "\n",
    "# split the data to 60% train, 20% dev and 20% test\n",
    "num_train = int(shuffled_data.shape[0]*0.6)\n",
    "num_dev = int(shuffled_data.shape[0]*0.8)\n",
    "\n",
    "train_data, train_labels = shuffled_data[:num_train], shuffled_labels[:num_train]\n",
    "dev_data, dev_labels = shuffled_data[num_train:num_dev], shuffled_labels[num_train:num_dev]\n",
    "test_data, test_labels = shuffled_data[num_dev:], shuffled_labels[num_dev:]"
   ]
  },
  {
   "cell_type": "markdown",
   "metadata": {},
   "source": [
    "### Naive Bayes Considerations\n",
    "\n",
    "1. How to deal with the continuous variables:\n",
    "    * bucketing by percentiles\n",
    "    * bucketing by int(np.log())\n",
    "    * bucketing by fixed width buckets"
   ]
  },
  {
   "cell_type": "code",
   "execution_count": 290,
   "metadata": {
    "scrolled": true
   },
   "outputs": [],
   "source": [
    "def bucket_data_percentile(data, bucket):\n",
    "    '''This function transform continuous data into discrete data by putting them into buckets of base on percentile'''\n",
    "\n",
    "    lower_bound = np.min(data)\n",
    "    bucketed_data = np.empty((data.shape[0],0))\n",
    "\n",
    "    for i in range(1, bucket+1):\n",
    "#         print(i, bucket)\n",
    "        upper_bound = np.percentile(data, 100*i/bucket)\n",
    "#         print(lower_bound, upper_bound)\n",
    "        col = i * (data >= lower_bound) * (data < upper_bound)\n",
    "        bucketed_data = np.hstack((bucketed_data,col.reshape(data.shape[0],1)))\n",
    "        lower_bound = upper_bound\n",
    "\n",
    "    output_data = np.sum(bucketed_data, axis=1)\n",
    "#     print(output_data)\n",
    "\n",
    "    return output_data.reshape(output_data.size,1)"
   ]
  },
  {
   "cell_type": "code",
   "execution_count": 305,
   "metadata": {},
   "outputs": [],
   "source": [
    "def bucket_data_con_interval(data, bucket):\n",
    "    '''This function transform continuous data into discrete data by putting them into buckets of constant intervals'''\n",
    "\n",
    "    lower_bound = np.min(data)\n",
    "    bucketed_data = np.empty((data.shape[0],0))\n",
    "\n",
    "    for i in range(1, bucket+1):\n",
    "        \n",
    "        upper_bound = lower_bound+(np.max(data) - np.min(data))/bucket\n",
    "        col = i * (data >= lower_bound) * (data < upper_bound)\n",
    "        bucketed_data = np.hstack((bucketed_data,col.reshape(data.shape[0],1)))\n",
    "        lower_bound = upper_bound\n",
    "\n",
    "    output_data = np.sum(bucketed_data, axis=1)\n",
    "\n",
    "    return output_data.reshape(output_data.size,1)"
   ]
  },
  {
   "cell_type": "code",
   "execution_count": 324,
   "metadata": {},
   "outputs": [],
   "source": [
    "def bucket_data_log(data, bucket):\n",
    "    return np.log(np.absolute(data)+1).astype('int').reshape(data.size,1)"
   ]
  },
  {
   "cell_type": "code",
   "execution_count": 327,
   "metadata": {},
   "outputs": [],
   "source": [
    "def bucket_data(data, cols, bucket_method, bucket_num):\n",
    "    transformed_data = np.empty((data.shape[0], 0))\n",
    "\n",
    "    for i in range(data.shape[1]):\n",
    "#         print(i)\n",
    "        if i not in cols:\n",
    "            transformed_data = np.hstack((transformed_data, data[:,i].reshape(data.shape[0],1)))\n",
    "        else:\n",
    "            transformed_data = np.hstack((transformed_data, bucket_method(data[:,i],bucket_num)))\n",
    "    \n",
    "    return transformed_data"
   ]
  },
  {
   "cell_type": "code",
   "execution_count": 411,
   "metadata": {
    "scrolled": false
   },
   "outputs": [
    {
     "name": "stdout",
     "output_type": "stream",
     "text": [
      "The best alpha is: 0.5\n",
      "--------------------------------------------------\n",
      "alpha = 0.0001, Accuracy =  0.6010802469135802\n",
      "alpha = 0.001, Accuracy =  0.6010802469135802\n",
      "alpha = 0.01, Accuracy =  0.6010802469135802\n",
      "alpha = 0.1, Accuracy =  0.6010802469135802\n",
      "alpha = 0.5, Accuracy =  0.6014109347442681\n",
      "alpha = 1.0, Accuracy =  0.6014109347442681\n",
      "alpha = 2.0, Accuracy =  0.6009700176366843\n",
      "alpha = 10.0, Accuracy =  0.6011904761904762\n",
      "alpha = 20.0, Accuracy =  0.6005291005291006\n",
      "alpha = 30.0, Accuracy =  0.5985449735449735\n"
     ]
    }
   ],
   "source": [
    "# discrete_train_data = bucket_data(train_data, range(10), bucket_data_percentile, 7)\n",
    "discrete_train_data = bucket_data(train_data, range(10), bucket_data_con_interval, 7)\n",
    "# discrete_train_data = bucket_data(train_data, range(10), bucket_data_log, None)\n",
    "\n",
    "\n",
    "mnb = MultinomialNB()\n",
    "# mnb.fit(discrete_train_data, train_labels)\n",
    "\n",
    "alphas = {'alpha': [0.0001, 0.001, 0.01, 0.1, 0.5, 1.0, 2.0, 10.0, 20.0, 30.0]}\n",
    "\n",
    "grid_search = GridSearchCV(mnb, alphas, cv=5)\n",
    "    \n",
    "# fit the data\n",
    "grid_search.fit(discrete_train_data, train_labels)\n",
    "\n",
    "# report the results \n",
    "print('The best alpha is:', grid_search.best_params_['alpha'])\n",
    "print('-'*50)\n",
    "\n",
    "cvres = grid_search.cv_results_\n",
    "for mean_score, params in zip(cvres[\"mean_test_score\"], cvres[\"params\"]):\n",
    "#     if params['alpha'] == 0 or params['alpha'] == grid_search.best_params_['alpha']:\n",
    "    print('alpha =', '%s,' %params['alpha'], 'Accuracy = ', mean_score)"
   ]
  },
  {
   "cell_type": "code",
   "execution_count": 475,
   "metadata": {},
   "outputs": [
    {
     "data": {
      "text/plain": [
       "0.609457671957672"
      ]
     },
     "execution_count": 475,
     "metadata": {},
     "output_type": "execute_result"
    }
   ],
   "source": [
    "# Test the fit to predict on training data\n",
    "\n",
    "discrete_train_data = bucket_data(train_data, range(10), bucket_data_con_interval, 7)\n",
    "mnb = MultinomialNB()\n",
    "mnb.fit(discrete_train_data, train_labels)\n",
    "\n",
    "predictions = mnb.predict(discrete_train_data)\n",
    "\n",
    "metrics.accuracy_score(train_labels, predictions)"
   ]
  },
  {
   "cell_type": "markdown",
   "metadata": {},
   "source": [
    "* The classifier is underfitted"
   ]
  },
  {
   "cell_type": "code",
   "execution_count": 476,
   "metadata": {},
   "outputs": [],
   "source": [
    "# Try to add the interaction of two features as a new feature\n",
    "\n",
    "interactions = train_data[:,0] * train_data[:,5]\n",
    "interactions = interactions.reshape(train_data.shape[0],1)\n",
    "expanded_train_data = np.hstack((train_data, interactions))\n",
    "# print(interactions)"
   ]
  },
  {
   "cell_type": "code",
   "execution_count": 478,
   "metadata": {},
   "outputs": [
    {
     "data": {
      "text/plain": [
       "0.6138668430335097"
      ]
     },
     "execution_count": 478,
     "metadata": {},
     "output_type": "execute_result"
    }
   ],
   "source": [
    "# test fit\n",
    "\n",
    "indices = [i for i in range(10)] + [expanded_train_data.shape[1]-1]\n",
    "# print(indices)\n",
    "discrete_train_data = bucket_data(expanded_train_data, indices, bucket_data_percentile, 7)\n",
    "\n",
    "# print(discrete_train_data[:, -1])\n",
    "\n",
    "mnb = MultinomialNB()\n",
    "mnb.fit(discrete_train_data, train_labels)\n",
    "\n",
    "predictions = mnb.predict(discrete_train_data)\n",
    "\n",
    "metrics.accuracy_score(train_labels, predictions)"
   ]
  },
  {
   "cell_type": "code",
   "execution_count": 479,
   "metadata": {
    "scrolled": true
   },
   "outputs": [
    {
     "data": {
      "text/plain": [
       "(array([   0.,    0.,    0.,    0.,    0., 9072.,    0.,    0.,    0.,\n",
       "           0.]),\n",
       " array([0.5, 0.6, 0.7, 0.8, 0.9, 1. , 1.1, 1.2, 1.3, 1.4, 1.5]),\n",
       " <a list of 10 Patch objects>)"
      ]
     },
     "execution_count": 479,
     "metadata": {},
     "output_type": "execute_result"
    },
    {
     "data": {
      "image/png": "[encoded data removed]",
      "text/plain": [
       "<Figure size 432x288 with 1 Axes>"
      ]
     },
     "metadata": {
      "needs_background": "light"
     },
     "output_type": "display_data"
    }
   ],
   "source": [
    "soil_sum = np.sum(train_data[:, 14:], axis = 1)\n",
    "\n",
    "plt.hist(soil_sum)"
   ]
  },
  {
   "cell_type": "markdown",
   "metadata": {},
   "source": [
    "* Only one soil is one per example"
   ]
  }
 ],
 "metadata": {
  "kernelspec": {
   "display_name": "Python 3",
   "language": "python",
   "name": "python3"
  },
  "language_info": {
   "codemirror_mode": {
    "name": "ipython",
    "version": 3
   },
   "file_extension": ".py",
   "mimetype": "text/x-python",
   "name": "python",
   "nbconvert_exporter": "python",
   "pygments_lexer": "ipython3",
   "version": "3.7.1"
  }
 },
 "nbformat": 4,
 "nbformat_minor": 2
}
